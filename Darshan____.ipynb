{
 "cells": [
  {
   "cell_type": "code",
   "execution_count": 1,
   "id": "8222b151-ec9f-45af-b314-359782291e6b",
   "metadata": {},
   "outputs": [],
   "source": [
    "import pandas as pd\n"
   ]
  },
  {
   "cell_type": "code",
   "execution_count": 2,
   "id": "058ffa39-a485-4371-8cf9-b5e904de050a",
   "metadata": {},
   "outputs": [],
   "source": [
    "s=pd.Series([\"D\",\"A\",\"R\",\"S\",\"N\"])"
   ]
  },
  {
   "cell_type": "code",
   "execution_count": 3,
   "id": "39da2ed4-cfdc-48d1-b01b-77483a009def",
   "metadata": {},
   "outputs": [
    {
     "data": {
      "text/plain": [
       "0    D\n",
       "1    A\n",
       "2    R\n",
       "3    S\n",
       "4    N\n",
       "dtype: object"
      ]
     },
     "execution_count": 3,
     "metadata": {},
     "output_type": "execute_result"
    }
   ],
   "source": [
    "s\n"
   ]
  },
  {
   "cell_type": "code",
   "execution_count": 25,
   "id": "d675ae0b-e5b4-41c5-8037-39f7e4280074",
   "metadata": {},
   "outputs": [
    {
     "data": {
      "text/html": [
       "<div>\n",
       "<style scoped>\n",
       "    .dataframe tbody tr th:only-of-type {\n",
       "        vertical-align: middle;\n",
       "    }\n",
       "\n",
       "    .dataframe tbody tr th {\n",
       "        vertical-align: top;\n",
       "    }\n",
       "\n",
       "    .dataframe thead th {\n",
       "        text-align: right;\n",
       "    }\n",
       "</style>\n",
       "<table border=\"1\" class=\"dataframe\">\n",
       "  <thead>\n",
       "    <tr style=\"text-align: right;\">\n",
       "      <th></th>\n",
       "      <th>FigRating</th>\n",
       "    </tr>\n",
       "  </thead>\n",
       "  <tbody>\n",
       "    <tr>\n",
       "      <th>0</th>\n",
       "      <td>A</td>\n",
       "    </tr>\n",
       "    <tr>\n",
       "      <th>1</th>\n",
       "      <td>B</td>\n",
       "    </tr>\n",
       "    <tr>\n",
       "      <th>2</th>\n",
       "      <td>C</td>\n",
       "    </tr>\n",
       "    <tr>\n",
       "      <th>3</th>\n",
       "      <td>E</td>\n",
       "    </tr>\n",
       "    <tr>\n",
       "      <th>4</th>\n",
       "      <td>F</td>\n",
       "    </tr>\n",
       "    <tr>\n",
       "      <th>5</th>\n",
       "      <td>G</td>\n",
       "    </tr>\n",
       "  </tbody>\n",
       "</table>\n",
       "</div>"
      ],
      "text/plain": [
       "  FigRating\n",
       "0         A\n",
       "1         B\n",
       "2         C\n",
       "3         E\n",
       "4         F\n",
       "5         G"
      ]
     },
     "execution_count": 25,
     "metadata": {},
     "output_type": "execute_result"
    }
   ],
   "source": [
    "df=pd.DataFrame([\"A\",\"B\",\"C\",\"E\",\"F\",\"G\"],columns=[\"FigRating\"])\n",
    "df.head(10)"
   ]
  },
  {
   "cell_type": "code",
   "execution_count": 11,
   "id": "6df76382-1b1c-4267-b0d1-001aa7e8b1e4",
   "metadata": {},
   "outputs": [],
   "source": [
    "import numpy as np"
   ]
  },
  {
   "cell_type": "code",
   "execution_count": 12,
   "id": "951dfcb5-7798-423f-82ff-23d0c19693bb",
   "metadata": {},
   "outputs": [],
   "source": [
    "from numpy import random"
   ]
  },
  {
   "cell_type": "code",
   "execution_count": 49,
   "id": "8013b8ae-ef7d-48a8-83ed-f748d5714fdf",
   "metadata": {},
   "outputs": [],
   "source": [
    "d=pd.DataFrame(np.random.randn(3,4),columns=['col1','col2','col3','col4'])\n"
   ]
  },
  {
   "cell_type": "code",
   "execution_count": 50,
   "id": "f661ae1e-9cbc-4fd5-a5bd-1ec6c64a354a",
   "metadata": {},
   "outputs": [
    {
     "data": {
      "text/html": [
       "<div>\n",
       "<style scoped>\n",
       "    .dataframe tbody tr th:only-of-type {\n",
       "        vertical-align: middle;\n",
       "    }\n",
       "\n",
       "    .dataframe tbody tr th {\n",
       "        vertical-align: top;\n",
       "    }\n",
       "\n",
       "    .dataframe thead th {\n",
       "        text-align: right;\n",
       "    }\n",
       "</style>\n",
       "<table border=\"1\" class=\"dataframe\">\n",
       "  <thead>\n",
       "    <tr style=\"text-align: right;\">\n",
       "      <th></th>\n",
       "      <th>col1</th>\n",
       "      <th>col2</th>\n",
       "      <th>col3</th>\n",
       "      <th>col4</th>\n",
       "    </tr>\n",
       "  </thead>\n",
       "  <tbody>\n",
       "    <tr>\n",
       "      <th>0</th>\n",
       "      <td>-0.185520</td>\n",
       "      <td>-0.239666</td>\n",
       "      <td>-0.149925</td>\n",
       "      <td>0.984672</td>\n",
       "    </tr>\n",
       "    <tr>\n",
       "      <th>1</th>\n",
       "      <td>0.162891</td>\n",
       "      <td>-0.851815</td>\n",
       "      <td>-0.304913</td>\n",
       "      <td>-1.044808</td>\n",
       "    </tr>\n",
       "    <tr>\n",
       "      <th>2</th>\n",
       "      <td>0.851429</td>\n",
       "      <td>-0.275479</td>\n",
       "      <td>-0.272105</td>\n",
       "      <td>0.997190</td>\n",
       "    </tr>\n",
       "  </tbody>\n",
       "</table>\n",
       "</div>"
      ],
      "text/plain": [
       "       col1      col2      col3      col4\n",
       "0 -0.185520 -0.239666 -0.149925  0.984672\n",
       "1  0.162891 -0.851815 -0.304913 -1.044808\n",
       "2  0.851429 -0.275479 -0.272105  0.997190"
      ]
     },
     "execution_count": 50,
     "metadata": {},
     "output_type": "execute_result"
    }
   ],
   "source": [
    "d"
   ]
  },
  {
   "cell_type": "code",
   "execution_count": 26,
   "id": "1f505a78-040d-4875-ae3e-fd5a344ce70b",
   "metadata": {},
   "outputs": [],
   "source": [
    "b=3\n",
    "c=2\n",
    "a=b+c"
   ]
  },
  {
   "cell_type": "code",
   "execution_count": 27,
   "id": "7478c5d9-25d0-412f-9062-8151497148a2",
   "metadata": {},
   "outputs": [
    {
     "data": {
      "text/plain": [
       "5"
      ]
     },
     "execution_count": 27,
     "metadata": {},
     "output_type": "execute_result"
    }
   ],
   "source": [
    "a"
   ]
  },
  {
   "cell_type": "code",
   "execution_count": 28,
   "id": "09200ba9-a09a-4744-a47a-5179b4058610",
   "metadata": {},
   "outputs": [
    {
     "ename": "SyntaxError",
     "evalue": "cannot assign to operator (<ipython-input-28-a6711da3e221>, line 1)",
     "output_type": "error",
     "traceback": [
      "\u001b[1;36m  File \u001b[1;32m\"<ipython-input-28-a6711da3e221>\"\u001b[1;36m, line \u001b[1;32m1\u001b[0m\n\u001b[1;33m    b+c=a\u001b[0m\n\u001b[1;37m    ^\u001b[0m\n\u001b[1;31mSyntaxError\u001b[0m\u001b[1;31m:\u001b[0m cannot assign to operator\n"
     ]
    }
   ],
   "source": [
    "b+c=a"
   ]
  },
  {
   "cell_type": "code",
   "execution_count": 30,
   "id": "6950d857-92e4-414f-a91a-979151a6ec2e",
   "metadata": {},
   "outputs": [
    {
     "ename": "SyntaxError",
     "evalue": "invalid syntax (<ipython-input-30-58ec3823bdd0>, line 2)",
     "output_type": "error",
     "traceback": [
      "\u001b[1;36m  File \u001b[1;32m\"<ipython-input-30-58ec3823bdd0>\"\u001b[1;36m, line \u001b[1;32m2\u001b[0m\n\u001b[1;33m    loc[]\u001b[0m\n\u001b[1;37m        ^\u001b[0m\n\u001b[1;31mSyntaxError\u001b[0m\u001b[1;31m:\u001b[0m invalid syntax\n"
     ]
    }
   ],
   "source": [
    "#access\n",
    "loc[]\n",
    "iloc[]"
   ]
  },
  {
   "cell_type": "code",
   "execution_count": 52,
   "id": "2316d02d-1674-4737-95e4-458b7bc6b426",
   "metadata": {},
   "outputs": [],
   "source": [
    "x=d.loc[2]#"
   ]
  },
  {
   "cell_type": "code",
   "execution_count": 53,
   "id": "ab3c3792-e883-4422-ad07-534bdeeab9f7",
   "metadata": {},
   "outputs": [
    {
     "data": {
      "text/plain": [
       "col1    0.851429\n",
       "col2   -0.275479\n",
       "col3   -0.272105\n",
       "col4    0.997190\n",
       "Name: 2, dtype: float64"
      ]
     },
     "execution_count": 53,
     "metadata": {},
     "output_type": "execute_result"
    }
   ],
   "source": [
    "x"
   ]
  },
  {
   "cell_type": "code",
   "execution_count": 54,
   "id": "40daa534-a101-495b-b41f-ef1212ee0235",
   "metadata": {},
   "outputs": [],
   "source": [
    "y=d.iloc[2]"
   ]
  },
  {
   "cell_type": "code",
   "execution_count": 55,
   "id": "ebc1c23b-b52a-4665-b90c-426c019a7d38",
   "metadata": {},
   "outputs": [
    {
     "data": {
      "text/plain": [
       "col1    0.851429\n",
       "col2   -0.275479\n",
       "col3   -0.272105\n",
       "col4    0.997190\n",
       "Name: 2, dtype: float64"
      ]
     },
     "execution_count": 55,
     "metadata": {},
     "output_type": "execute_result"
    }
   ],
   "source": [
    "y"
   ]
  },
  {
   "cell_type": "code",
   "execution_count": 56,
   "id": "e3769afe-7ffe-4266-bb4d-ac2545264ef4",
   "metadata": {},
   "outputs": [],
   "source": [
    "d['col5']=d['col1']+d['col2']"
   ]
  },
  {
   "cell_type": "code",
   "execution_count": 57,
   "id": "a689e02b-96c4-4feb-b52c-61ad0318f628",
   "metadata": {},
   "outputs": [
    {
     "data": {
      "text/html": [
       "<div>\n",
       "<style scoped>\n",
       "    .dataframe tbody tr th:only-of-type {\n",
       "        vertical-align: middle;\n",
       "    }\n",
       "\n",
       "    .dataframe tbody tr th {\n",
       "        vertical-align: top;\n",
       "    }\n",
       "\n",
       "    .dataframe thead th {\n",
       "        text-align: right;\n",
       "    }\n",
       "</style>\n",
       "<table border=\"1\" class=\"dataframe\">\n",
       "  <thead>\n",
       "    <tr style=\"text-align: right;\">\n",
       "      <th></th>\n",
       "      <th>col1</th>\n",
       "      <th>col2</th>\n",
       "      <th>col3</th>\n",
       "      <th>col4</th>\n",
       "      <th>col5</th>\n",
       "    </tr>\n",
       "  </thead>\n",
       "  <tbody>\n",
       "    <tr>\n",
       "      <th>0</th>\n",
       "      <td>-0.185520</td>\n",
       "      <td>-0.239666</td>\n",
       "      <td>-0.149925</td>\n",
       "      <td>0.984672</td>\n",
       "      <td>-0.425186</td>\n",
       "    </tr>\n",
       "    <tr>\n",
       "      <th>1</th>\n",
       "      <td>0.162891</td>\n",
       "      <td>-0.851815</td>\n",
       "      <td>-0.304913</td>\n",
       "      <td>-1.044808</td>\n",
       "      <td>-0.688924</td>\n",
       "    </tr>\n",
       "    <tr>\n",
       "      <th>2</th>\n",
       "      <td>0.851429</td>\n",
       "      <td>-0.275479</td>\n",
       "      <td>-0.272105</td>\n",
       "      <td>0.997190</td>\n",
       "      <td>0.575950</td>\n",
       "    </tr>\n",
       "  </tbody>\n",
       "</table>\n",
       "</div>"
      ],
      "text/plain": [
       "       col1      col2      col3      col4      col5\n",
       "0 -0.185520 -0.239666 -0.149925  0.984672 -0.425186\n",
       "1  0.162891 -0.851815 -0.304913 -1.044808 -0.688924\n",
       "2  0.851429 -0.275479 -0.272105  0.997190  0.575950"
      ]
     },
     "execution_count": 57,
     "metadata": {},
     "output_type": "execute_result"
    }
   ],
   "source": [
    "d"
   ]
  },
  {
   "cell_type": "code",
   "execution_count": 58,
   "id": "a2aa9c7e-3fd2-4447-a776-cfa6fd0a0c17",
   "metadata": {},
   "outputs": [
    {
     "data": {
      "text/plain": [
       "(3, 5)"
      ]
     },
     "execution_count": 58,
     "metadata": {},
     "output_type": "execute_result"
    }
   ],
   "source": [
    "d.shape"
   ]
  },
  {
   "cell_type": "code",
   "execution_count": 59,
   "id": "85a9fef1-ee39-4756-baa5-117e907ccac6",
   "metadata": {},
   "outputs": [
    {
     "data": {
      "text/plain": [
       "15"
      ]
     },
     "execution_count": 59,
     "metadata": {},
     "output_type": "execute_result"
    }
   ],
   "source": [
    "d.size"
   ]
  },
  {
   "cell_type": "code",
   "execution_count": 60,
   "id": "a4eacc1f-528b-4c92-aabc-de749dc681de",
   "metadata": {},
   "outputs": [
    {
     "data": {
      "text/plain": [
       "pandas.core.frame.DataFrame"
      ]
     },
     "execution_count": 60,
     "metadata": {},
     "output_type": "execute_result"
    }
   ],
   "source": [
    "type(d)"
   ]
  },
  {
   "cell_type": "code",
   "execution_count": 61,
   "id": "47d9d38a-74fa-48f4-91ee-2e2c7f19309e",
   "metadata": {},
   "outputs": [
    {
     "data": {
      "text/plain": [
       "pandas.core.series.Series"
      ]
     },
     "execution_count": 61,
     "metadata": {},
     "output_type": "execute_result"
    }
   ],
   "source": [
    "type(d['col1'])"
   ]
  },
  {
   "cell_type": "code",
   "execution_count": 63,
   "id": "974436df-6ace-4581-b920-4dd365124257",
   "metadata": {},
   "outputs": [],
   "source": [
    "data=pd.read_excel(\"stress.xlsx\")"
   ]
  },
  {
   "cell_type": "code",
   "execution_count": 64,
   "id": "a2bd3d3e-9a54-4345-bbca-5499df810a68",
   "metadata": {},
   "outputs": [
    {
     "data": {
      "text/html": [
       "<div>\n",
       "<style scoped>\n",
       "    .dataframe tbody tr th:only-of-type {\n",
       "        vertical-align: middle;\n",
       "    }\n",
       "\n",
       "    .dataframe tbody tr th {\n",
       "        vertical-align: top;\n",
       "    }\n",
       "\n",
       "    .dataframe thead th {\n",
       "        text-align: right;\n",
       "    }\n",
       "</style>\n",
       "<table border=\"1\" class=\"dataframe\">\n",
       "  <thead>\n",
       "    <tr style=\"text-align: right;\">\n",
       "      <th></th>\n",
       "      <th>name</th>\n",
       "      <th>age</th>\n",
       "      <th>exam stress</th>\n",
       "    </tr>\n",
       "  </thead>\n",
       "  <tbody>\n",
       "    <tr>\n",
       "      <th>0</th>\n",
       "      <td>darshan</td>\n",
       "      <td>20</td>\n",
       "      <td>1</td>\n",
       "    </tr>\n",
       "    <tr>\n",
       "      <th>1</th>\n",
       "      <td>pooja</td>\n",
       "      <td>16</td>\n",
       "      <td>0</td>\n",
       "    </tr>\n",
       "    <tr>\n",
       "      <th>2</th>\n",
       "      <td>rohit</td>\n",
       "      <td>15</td>\n",
       "      <td>0</td>\n",
       "    </tr>\n",
       "  </tbody>\n",
       "</table>\n",
       "</div>"
      ],
      "text/plain": [
       "      name  age  exam stress\n",
       "0  darshan   20            1\n",
       "1    pooja   16            0\n",
       "2    rohit   15            0"
      ]
     },
     "execution_count": 64,
     "metadata": {},
     "output_type": "execute_result"
    }
   ],
   "source": [
    "data"
   ]
  },
  {
   "cell_type": "code",
   "execution_count": null,
   "id": "715b14ff-8dcc-4b4f-8ee6-92eca4122121",
   "metadata": {},
   "outputs": [],
   "source": []
  }
 ],
 "metadata": {
  "kernelspec": {
   "display_name": "Python 3",
   "language": "python",
   "name": "python3"
  },
  "language_info": {
   "codemirror_mode": {
    "name": "ipython",
    "version": 3
   },
   "file_extension": ".py",
   "mimetype": "text/x-python",
   "name": "python",
   "nbconvert_exporter": "python",
   "pygments_lexer": "ipython3",
   "version": "3.8.8"
  }
 },
 "nbformat": 4,
 "nbformat_minor": 5
}
